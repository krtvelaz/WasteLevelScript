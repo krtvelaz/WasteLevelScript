{
 "cells": [
  {
   "cell_type": "code",
   "execution_count": 25,
   "metadata": {},
   "outputs": [],
   "source": [
    "import shutil as s\n",
    "import pandas as pd\n",
    "import json as js\n",
    "from datetime import datetime, timezone\n",
    "import requests as rq\n",
    "import os\n",
    "import pytz\n",
    "from urllib3.exceptions import InsecureRequestWarning\n",
    "rq.packages.urllib3.disable_warnings(category=InsecureRequestWarning)\n",
    "\n",
    "# Ubicacion de los Archivos de configuración\n",
    "path = os.path.join(sys.path[0])+\"/\"\n",
    "\n",
    "# Variables de Aumento\n",
    "AumentoNormal = 0.003571429\n",
    "AumentoAfan = 0.004464286\n",
    "AumentoNormalNoc = 0.00125\n",
    "AumentoAfanNoc = 0.0025\n",
    "Momento=datetime.now().replace(tzinfo=pytz.timezone(\"America/Bogota\"))\n"
   ]
  },
  {
   "cell_type": "code",
   "execution_count": 26,
   "metadata": {},
   "outputs": [],
   "source": [
    "# funcion para autenticarse en Orion\n",
    "def Auth():\n",
    "    url = 'https://medellinciudadinteligente.co/keycloak/auth/realms/fiware-server/protocol/openid-connect/token'\n",
    "    headers = {\n",
    "        'Content-Type': 'application/x-www-form-urlencoded'\n",
    "    }\n",
    "    data = {\n",
    "        'username': 'admin-user',\n",
    "        'password': 'admin-user',\n",
    "        'grant_type': 'password',\n",
    "        'client_id': 'fiware-login'\n",
    "    }\n",
    "    response = rq.post(url, headers=headers, data=data, verify=False)\n",
    "    return (response.json()['access_token'])\n"
   ]
  },
  {
   "cell_type": "code",
   "execution_count": 27,
   "metadata": {},
   "outputs": [],
   "source": [
    "# funcion para alimentar modelo de WasteLevel\n",
    "def EnviarPost(data : dict, token):\n",
    "    url = \"https://medellinciudadinteligente.co/orion/v2/op/update\"\n",
    "    headers = {\n",
    "        'fiware-service': 'WasteLevel',\n",
    "        'fiware-servicepath': '/hopu',\n",
    "        'Content-Type': 'application/json',\n",
    "        'Authorization': 'Bearer ' + token\n",
    "    }\n",
    "    response = rq.request(\"POST\", url, headers=headers,\n",
    "                          data=js.dumps(data), verify=False)\n",
    "    return response\n"
   ]
  },
  {
   "cell_type": "code",
   "execution_count": 28,
   "metadata": {},
   "outputs": [],
   "source": [
    "def ActualizarBinFillingLevel(binFillingLevel, windowStart, windowEnd, WeekDay1, WeekDay2):\n",
    "    hoy = Momento\n",
    "    Hora_TF = (hoy.hour) >= windowStart and (hoy.hour) < windowEnd\n",
    "    Dia_TF = (hoy.isoweekday()) == 2 and (hoy.isoweekday()) == 5\n",
    "    Aumento = 0\n",
    "    if(Dia_TF+1 == WeekDay1 or Dia_TF+1 == WeekDay2):\n",
    "        if (Hora_TF > 17 and Hora_TF >= 23) or (Hora_TF >= 0 and Hora_TF < 4):\n",
    "            Aumento = AumentoAfanNoc\n",
    "        else:\n",
    "            Aumento = AumentoAfan\n",
    "    else:\n",
    "        if (Hora_TF > 17 and Hora_TF >= 23) or (Hora_TF >= 0 and Hora_TF < 4):\n",
    "            Aumento = AumentoNormalNoc\n",
    "        else:\n",
    "            Aumento = AumentoNormal\n",
    "\n",
    "    binFillingLevel += Aumento\n",
    "\n",
    "    return binFillingLevel\n"
   ]
  },
  {
   "cell_type": "code",
   "execution_count": 29,
   "metadata": {},
   "outputs": [],
   "source": [
    "def ActualizarArchivo(registro):\n",
    "    ArchivoJson = open(path+'entities_waste.json')\n",
    "    requestJson = js.load(ArchivoJson)\n",
    "    ArchivoJson.close()\n",
    "\n",
    "    requestJson['entities'][0]['id'] = \"urn:ngsi:WasteContainer:\"+registro.id\n",
    "    requestJson['entities'][0]['binFillingLevel']['value'] = registro.binFillingLevel\n",
    "    requestJson['entities'][0]['binFillingLevel']['metadata']['dateObserved']['value'] = registro.LastModifiedDate\n",
    "    requestJson['entities'][0]['location']['value']['coordinates'][0] = registro.Longitud\n",
    "    requestJson['entities'][0]['location']['value']['coordinates'][1] = registro.Latitud\n",
    "    requestJson['entities'][0]['TimeInstant']['value'] = registro.LastModifiedDate\n",
    "    requestJson['entities'][0]['time_index']['value'] = registro.LastModifiedDate\n",
    "\n",
    "    return requestJson\n"
   ]
  },
  {
   "cell_type": "code",
   "execution_count": 30,
   "metadata": {},
   "outputs": [],
   "source": [
    "def ReiniciarDispositivos():\n",
    "    config = pd.read_json(path+\"deviceWasteConfig.json\")\n",
    "    config.binFillingLevel = 0\n",
    "    config.LastModifiedDate = datetime.now().isoformat()[:-3]+'Z'\n",
    "    config.to_json(path+\"deviceWasteConfig.json\", orient='records')\n",
    "\n"
   ]
  },
  {
   "cell_type": "code",
   "execution_count": 31,
   "metadata": {},
   "outputs": [],
   "source": [
    "def IniciarDispositivos():\n",
    "    \n",
    "    config = pd.read_json(path+\"deviceWasteConfig.json\")\n",
    "    config.binFillingLevel = config.apply(lambda x: ActualizarBinFillingLevel(\n",
    "        x.binFillingLevel, x.windowStart, x.windowEnd, x.WeekDay1, x.WeekDay2), axis=1)\n",
    "    config.LastModifiedDate = momento\n",
    "\n",
    "    TOKEN = Auth()\n",
    "    status_table = []\n",
    "    status_code = 0\n",
    "    response = \"\"\n",
    "    print('cargando...')\n",
    "    for registro in config.itertuples():\n",
    "        datos = ActualizarArchivo(registro)\n",
    "        respuesta = EnviarPost(datos, TOKEN)\n",
    "        status_code = respuesta\n",
    "        if(status_code != 204):\n",
    "            TOKEN = Auth()\n",
    "            respuesta = EnviarPost(datos, TOKEN)\n",
    "            status_code = respuesta\n",
    "        status_table.append(\n",
    "            {'id': registro.id, 'status': status_code.status_code, 'content': status_code.content})\n",
    "\n",
    "        config.to_json(path+\"deviceWasteConfig.json\", orient='records')\n",
    "\n",
    "    return status_table\n"
   ]
  },
  {
   "cell_type": "code",
   "execution_count": 32,
   "metadata": {},
   "outputs": [
    {
     "name": "stdout",
     "output_type": "stream",
     "text": [
      "cargando...\n",
      "[{'id': 'DIN20211222001', 'status': 400, 'content': b'{\"error\":\"BadRequest\",\"description\":\"date has invalid format\"}'}, {'id': 'DIN20211222002', 'status': 400, 'content': b'{\"error\":\"BadRequest\",\"description\":\"date has invalid format\"}'}, {'id': 'DIN20211222003', 'status': 400, 'content': b'{\"error\":\"BadRequest\",\"description\":\"date has invalid format\"}'}, {'id': 'DIN20211222004', 'status': 400, 'content': b'{\"error\":\"BadRequest\",\"description\":\"date has invalid format\"}'}, {'id': 'DIN20211222005', 'status': 400, 'content': b'{\"error\":\"BadRequest\",\"description\":\"date has invalid format\"}'}, {'id': 'DIN20211222006', 'status': 400, 'content': b'{\"error\":\"BadRequest\",\"description\":\"date has invalid format\"}'}]\n"
     ]
    }
   ],
   "source": [
    "print(IniciarDispositivos())"
   ]
  },
  {
   "cell_type": "code",
   "execution_count": 64,
   "metadata": {},
   "outputs": [
    {
     "data": {
      "text/plain": [
       "'2022-03-02T11:18:08.068Z'"
      ]
     },
     "execution_count": 64,
     "metadata": {},
     "output_type": "execute_result"
    }
   ],
   "source": []
  }
 ],
 "metadata": {
  "interpreter": {
   "hash": "bdad4d88ebd4a1675af787342cfce7eff1227fb13e0f1e6f4326b5aca0b860c9"
  },
  "kernelspec": {
   "display_name": "Python 3.10.2 64-bit",
   "language": "python",
   "name": "python3"
  },
  "language_info": {
   "codemirror_mode": {
    "name": "ipython",
    "version": 3
   },
   "file_extension": ".py",
   "mimetype": "text/x-python",
   "name": "python",
   "nbconvert_exporter": "python",
   "pygments_lexer": "ipython3",
   "version": "3.10.2"
  },
  "orig_nbformat": 4
 },
 "nbformat": 4,
 "nbformat_minor": 2
}
